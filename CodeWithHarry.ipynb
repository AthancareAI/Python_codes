{
 "cells": [
  {
   "cell_type": "code",
   "execution_count": 1,
   "metadata": {},
   "outputs": [
    {
     "name": "stdout",
     "output_type": "stream",
     "text": [
      "my name is \n",
      " comment\n",
      " Satyam YahooNeelmani\n"
     ]
    }
   ],
   "source": [
    "print(\"my name is \\n comment\")\n",
    "'''\n",
    "Multi-line comment\n",
    "'''\n",
    "# Read escape sequence\n",
    "print(\" Satyam\", end = \" Yahoo\")\n",
    "print(\"Neelmani\")\n"
   ]
  },
  {
   "cell_type": "markdown",
   "metadata": {},
   "source": [
    "# Dictionary"
   ]
  },
  {
   "cell_type": "code",
   "execution_count": 2,
   "metadata": {},
   "outputs": [
    {
     "name": "stdout",
     "output_type": "stream",
     "text": [
      "<class 'dict'>\n",
      "{'Harry': 'Burger', 'Rohan': 'Fish', 'SkillF': 'Roti', 'Shubham': {'B': 'maggie', 'L': 'roti', 'D': 'Chicken'}}\n"
     ]
    }
   ],
   "source": [
    "# Dictionary is nothing but key value pairs\n",
    "d1 = {}\n",
    "print(type(d1))\n",
    "d2 = {\"Harry\":\"Burger\",\n",
    "      \"Rohan\":\"Fish\",\n",
    "      \"SkillF\":\"Roti\",\n",
    "      \"Shubham\":{\"B\":\"maggie\", \"L\":\"roti\", \"D\":\"Chicken\"}}\n",
    "print(d2)"
   ]
  },
  {
   "cell_type": "code",
   "execution_count": 4,
   "metadata": {},
   "outputs": [
    {
     "name": "stdout",
     "output_type": "stream",
     "text": [
      "{'Harry': 'Burger', 'Rohan': 'Fish', 'SkillF': 'Roti', 'Shubham': {'B': 'maggie', 'L': 'roti', 'D': 'Chicken'}, 'Ankit': 'Junk Food'}\n"
     ]
    }
   ],
   "source": [
    "d2[\"Ankit\"] = \"Junk Food\"\n",
    "print(d2)"
   ]
  },
  {
   "cell_type": "code",
   "execution_count": 12,
   "metadata": {},
   "outputs": [
    {
     "name": "stdout",
     "output_type": "stream",
     "text": [
      "{'Harry': 'Burger', 'Rohan': 'Fish', 'SkillF': 'Roti', 'Shubham': {'B': 'maggie', 'L': 'roti', 'D': 'Chicken'}, 'Ankit': 'Junk Food', 'Leena': 'Toffee', 420: 'Kebabs'}\n",
      "\n",
      "{'B': 'maggie', 'L': 'roti', 'D': 'Chicken'}\n",
      "\n",
      "dict_keys(['Harry', 'Rohan', 'SkillF', 'Shubham', 'Ankit', 'Leena'])\n",
      "\n",
      "dict_items([('Harry', 'Burger'), ('Rohan', 'Fish'), ('SkillF', 'Roti'), ('Shubham', {'B': 'maggie', 'L': 'roti', 'D': 'Chicken'}), ('Ankit', 'Junk Food'), ('Leena', 'Toffee')])\n"
     ]
    }
   ],
   "source": [
    "d2[420] = \"Kebabs\"\n",
    "print(d2, end = \"\\n\\n\")\n",
    "\n",
    "del d2[420]\n",
    "print(d2[\"Shubham\"], end = \"\\n\\n\")\n",
    "\n",
    "d3 = d2.copy()\n",
    "del d3[\"Harry\"]\n",
    "\n",
    "d2.update({\"Leena\":\"Toffee\"})\n",
    "\n",
    "print(d2.keys(), end = \"\\n\\n\")\n",
    "print(d2.items())"
   ]
  },
  {
   "cell_type": "markdown",
   "metadata": {},
   "source": [
    "# Sets"
   ]
  },
  {
   "cell_type": "code",
   "execution_count": null,
   "metadata": {},
   "outputs": [],
   "source": []
  },
  {
   "cell_type": "markdown",
   "metadata": {},
   "source": [
    "# Break & Continue Statement"
   ]
  },
  {
   "cell_type": "code",
   "execution_count": 30,
   "metadata": {},
   "outputs": [
    {
     "name": "stdout",
     "output_type": "stream",
     "text": [
      "5 6 7 8 9 10 11 12 13 14 15 16 17 18 19 20 21 22 23 24 25 26 27 28 29 30 31 32 33 34 35 36 37 38 39 40 41 42 43 44 45 "
     ]
    }
   ],
   "source": [
    "i = 0\n",
    "while(True):\n",
    "    if i+1 <5:\n",
    "        i = i+1\n",
    "        continue\n",
    "    i = i+1\n",
    "    if i>45:\n",
    "        break\n",
    "    print(i, end = \" \")"
   ]
  },
  {
   "cell_type": "markdown",
   "metadata": {},
   "source": [
    "# Funtions and Docstrings"
   ]
  },
  {
   "cell_type": "code",
   "execution_count": 43,
   "metadata": {},
   "outputs": [
    {
     "name": "stdout",
     "output_type": "stream",
     "text": [
      "3.0\n"
     ]
    }
   ],
   "source": [
    "def function(a,b):\n",
    "    ''' This is a function'''\n",
    "    average = (a+b)/2\n",
    "    #print(average)\n",
    "    return average\n",
    "name = function(2,4)\n",
    "print(name)\n"
   ]
  },
  {
   "cell_type": "code",
   "execution_count": 44,
   "metadata": {},
   "outputs": [
    {
     "name": "stdout",
     "output_type": "stream",
     "text": [
      " This is a function\n"
     ]
    }
   ],
   "source": [
    "print(function.__doc__)"
   ]
  },
  {
   "cell_type": "markdown",
   "metadata": {},
   "source": [
    "# Try Except Exceptional Handling in Python"
   ]
  },
  {
   "cell_type": "code",
   "execution_count": 48,
   "metadata": {},
   "outputs": [
    {
     "name": "stdout",
     "output_type": "stream",
     "text": [
      "Enter num 1\n",
      "2\n",
      "Enter num 2\n",
      "2\n",
      "The sum of these two numbers is 4\n"
     ]
    }
   ],
   "source": [
    "print(\"Enter num 1\")\n",
    "num1 = int(input())\n",
    "\n",
    "print(\"Enter num 2\")\n",
    "num2 = int(input())\n",
    "\n",
    "print(\"The sum of these two numbers is\", num1+num2)"
   ]
  },
  {
   "cell_type": "code",
   "execution_count": 50,
   "metadata": {},
   "outputs": [
    {
     "name": "stdout",
     "output_type": "stream",
     "text": [
      "Enter num 1\n",
      "3\n",
      "Enter num 2\n",
      "r\n",
      "invalid literal for int() with base 10: 'r'\n",
      "This line is very important\n"
     ]
    }
   ],
   "source": [
    "print(\"Enter num 1\")\n",
    "num1 = input()\n",
    "\n",
    "print(\"Enter num 2\")\n",
    "num2 = input()\n",
    "\n",
    "try:\n",
    "    \n",
    "    print(\"The sum of these two numbers is\", \n",
    "          int(num1)+int(num2))\n",
    "    \n",
    "except Exception as e:\n",
    "    print(e)\n",
    "    \n",
    "print(\"This line is very important\")"
   ]
  },
  {
   "cell_type": "markdown",
   "metadata": {},
   "source": [
    "# File IO Basics"
   ]
  },
  {
   "cell_type": "code",
   "execution_count": 51,
   "metadata": {},
   "outputs": [
    {
     "data": {
      "text/plain": [
       "'\\n\"r\" - Open file for reading - Default mode\\n\"w\" - Open a file for writing\\n\"x\" - Create file if not exists\\n\"a\" - Add more content to a file/ append at end in file\\n\"t\" - open file in text mode - Default mode\\n\"b\" - open file in binary mode\\n\"+\" - for update (read and write both)\\n'"
      ]
     },
     "execution_count": 51,
     "metadata": {},
     "output_type": "execute_result"
    }
   ],
   "source": [
    "########### Python File IO Basics #########\n",
    "\n",
    "# Two types of memory\n",
    "# 1. Volatile Memory : Data cleared as System Shut Down\n",
    "# Example : RAM\n",
    "# 2. Non-Volatile Memory : Data remains saved always.\n",
    "# Example : Hard Disk\n",
    "\n",
    "# File : In Non-Volatile Memory we store Data as File\n",
    "# File may be text file,binary file(Ex - Image,mp3),etc.\n",
    "\n",
    "# Different Modes of Opening files in Python\n",
    "\n",
    "\"\"\"\n",
    "\"r\" - Open file for reading - Default mode\n",
    "\"w\" - Open a file for writing\n",
    "\"x\" - Create file if not exists\n",
    "\"a\" - Add more content to a file/ append at end in file\n",
    "\"t\" - open file in text mode - Default mode\n",
    "\"b\" - open file in binary mode\n",
    "\"+\" - for update (read and write both)\n",
    "\"\"\""
   ]
  },
  {
   "cell_type": "markdown",
   "metadata": {},
   "source": [
    "https://www.youtube.com/watch?v=Q9K_wFj5DuQ&list=PLu0W_9lII9agICnT8t4iYVSZ3eykIAOME&index=27"
   ]
  },
  {
   "cell_type": "code",
   "execution_count": null,
   "metadata": {},
   "outputs": [],
   "source": [
    "FILE IO VIDEOS ARE SKIPPED TILL 34"
   ]
  },
  {
   "cell_type": "markdown",
   "metadata": {},
   "source": [
    "# Scope, Global Variables"
   ]
  },
  {
   "cell_type": "markdown",
   "metadata": {},
   "source": [
    "https://www.youtube.com/watch?v=im7Z1jKMGao&list=PLu0W_9lII9agICnT8t4iYVSZ3eykIAOME&index=34"
   ]
  },
  {
   "cell_type": "code",
   "execution_count": 55,
   "metadata": {},
   "outputs": [
    {
     "ename": "UnboundLocalError",
     "evalue": "local variable 'l' referenced before assignment",
     "output_type": "error",
     "traceback": [
      "\u001b[1;31m---------------------------------------------------------------------------\u001b[0m",
      "\u001b[1;31mUnboundLocalError\u001b[0m                         Traceback (most recent call last)",
      "\u001b[1;32m<ipython-input-55-364f6c056a10>\u001b[0m in \u001b[0;36m<module>\u001b[1;34m\u001b[0m\n\u001b[0;32m      7\u001b[0m     \u001b[0mprint\u001b[0m\u001b[1;33m(\u001b[0m\u001b[0mn\u001b[0m\u001b[1;33m,\u001b[0m\u001b[1;34m\"This is me\"\u001b[0m\u001b[1;33m)\u001b[0m\u001b[1;33m\u001b[0m\u001b[1;33m\u001b[0m\u001b[0m\n\u001b[0;32m      8\u001b[0m     \u001b[0mprint\u001b[0m\u001b[1;33m(\u001b[0m\u001b[0ml\u001b[0m\u001b[1;33m)\u001b[0m\u001b[1;33m\u001b[0m\u001b[1;33m\u001b[0m\u001b[0m\n\u001b[1;32m----> 9\u001b[1;33m \u001b[0mfunction\u001b[0m\u001b[1;33m(\u001b[0m\u001b[1;34m\"Satyam\"\u001b[0m\u001b[1;33m)\u001b[0m\u001b[1;33m\u001b[0m\u001b[1;33m\u001b[0m\u001b[0m\n\u001b[0m\u001b[0;32m     10\u001b[0m \u001b[0mprint\u001b[0m\u001b[1;33m(\u001b[0m\u001b[0ml\u001b[0m\u001b[1;33m)\u001b[0m\u001b[1;33m\u001b[0m\u001b[1;33m\u001b[0m\u001b[0m\n",
      "\u001b[1;32m<ipython-input-55-364f6c056a10>\u001b[0m in \u001b[0;36mfunction\u001b[1;34m(n)\u001b[0m\n\u001b[0;32m      4\u001b[0m     \u001b[1;31m# local variable is a read only variable\u001b[0m\u001b[1;33m\u001b[0m\u001b[1;33m\u001b[0m\u001b[1;33m\u001b[0m\u001b[0m\n\u001b[0;32m      5\u001b[0m     \u001b[1;31m# global variable is difficult to change in local space\u001b[0m\u001b[1;33m\u001b[0m\u001b[1;33m\u001b[0m\u001b[1;33m\u001b[0m\u001b[0m\n\u001b[1;32m----> 6\u001b[1;33m     \u001b[0ml\u001b[0m \u001b[1;33m=\u001b[0m \u001b[0ml\u001b[0m\u001b[1;33m+\u001b[0m\u001b[1;36m2\u001b[0m\u001b[1;33m\u001b[0m\u001b[1;33m\u001b[0m\u001b[0m\n\u001b[0m\u001b[0;32m      7\u001b[0m     \u001b[0mprint\u001b[0m\u001b[1;33m(\u001b[0m\u001b[0mn\u001b[0m\u001b[1;33m,\u001b[0m\u001b[1;34m\"This is me\"\u001b[0m\u001b[1;33m)\u001b[0m\u001b[1;33m\u001b[0m\u001b[1;33m\u001b[0m\u001b[0m\n\u001b[0;32m      8\u001b[0m     \u001b[0mprint\u001b[0m\u001b[1;33m(\u001b[0m\u001b[0ml\u001b[0m\u001b[1;33m)\u001b[0m\u001b[1;33m\u001b[0m\u001b[1;33m\u001b[0m\u001b[0m\n",
      "\u001b[1;31mUnboundLocalError\u001b[0m: local variable 'l' referenced before assignment"
     ]
    }
   ],
   "source": [
    "l = 10 # global scope\n",
    "def function(n):\n",
    "    #l= 5 # local scope\n",
    "    # local variable is a read only variable\n",
    "    # global variable is difficult to change in local space\n",
    "    l = l+2\n",
    "    print(n,\"This is me\")\n",
    "    print(l)\n",
    "function(\"Satyam\")\n",
    "print(l)"
   ]
  },
  {
   "cell_type": "code",
   "execution_count": 56,
   "metadata": {},
   "outputs": [
    {
     "name": "stdout",
     "output_type": "stream",
     "text": [
      "Satyam This is me\n",
      "7\n",
      "10\n"
     ]
    }
   ],
   "source": [
    "l = 10 # global scope\n",
    "def function(n):\n",
    "    l= 5 # local scope\n",
    "    # local variable is a read only variable\n",
    "    # global variable is difficult to change in local space\n",
    "    l = l+2\n",
    "    print(n,\"This is me\")\n",
    "    print(l)\n",
    "function(\"Satyam\")\n",
    "print(l)"
   ]
  },
  {
   "cell_type": "code",
   "execution_count": 57,
   "metadata": {},
   "outputs": [
    {
     "name": "stdout",
     "output_type": "stream",
     "text": [
      "Satyam This is me\n",
      "12\n",
      "12\n"
     ]
    }
   ],
   "source": [
    "l = 10 # global scope\n",
    "def function(n):\n",
    "    global l # fucntion got the permission to change the global variable\n",
    "    # local variable is a read only variable\n",
    "    # global variable is difficult to change in local space\n",
    "    l = l+2\n",
    "    print(n,\"This is me\")\n",
    "    print(l)\n",
    "function(\"Satyam\")\n",
    "print(l)"
   ]
  },
  {
   "cell_type": "code",
   "execution_count": 62,
   "metadata": {},
   "outputs": [
    {
     "name": "stdout",
     "output_type": "stream",
     "text": [
      "89\n"
     ]
    }
   ],
   "source": [
    "x = 89\n",
    "def harry():\n",
    "    x = 20\n",
    "    def rohan():\n",
    "        global x\n",
    "        # global variable always look for variable in global space\n",
    "        # not in the local space\n",
    "        x = 88\n",
    "    print(\"before calling rohan()\",x)\n",
    "    rohan()\n",
    "    print(\"after calling rohan()\",x)\n",
    "\n",
    "print(x)"
   ]
  },
  {
   "cell_type": "code",
   "execution_count": 59,
   "metadata": {},
   "outputs": [
    {
     "name": "stdout",
     "output_type": "stream",
     "text": [
      "before calling rohan() 20\n",
      "after calling rohan() 20\n"
     ]
    }
   ],
   "source": [
    "harry()"
   ]
  },
  {
   "cell_type": "markdown",
   "metadata": {},
   "source": [
    "# Recursions"
   ]
  },
  {
   "cell_type": "code",
   "execution_count": 68,
   "metadata": {},
   "outputs": [
    {
     "data": {
      "text/plain": [
       "120"
      ]
     },
     "execution_count": 68,
     "metadata": {},
     "output_type": "execute_result"
    }
   ],
   "source": [
    "# iterative approach\n",
    "def factorial_iterative(n):\n",
    "    '''\n",
    "    : param n: Integer\n",
    "    : return: n*n-1*...1\n",
    "    '''\n",
    "    fac = 1\n",
    "    for i in range(n):\n",
    "        fac = fac*(i+1)\n",
    "    return fac\n",
    "    \n",
    "factorial_iterative(5)"
   ]
  },
  {
   "cell_type": "code",
   "execution_count": 70,
   "metadata": {},
   "outputs": [
    {
     "data": {
      "text/plain": [
       "120"
      ]
     },
     "execution_count": 70,
     "metadata": {},
     "output_type": "execute_result"
    }
   ],
   "source": [
    "# Recursive approach\n",
    "\n",
    "def factorial_recursive(n):\n",
    "    if n==1:\n",
    "        return 1\n",
    "    else:\n",
    "        return n*factorial_recursive(n-1)\n",
    "\n",
    "factorial_recursive(5)"
   ]
  },
  {
   "cell_type": "code",
   "execution_count": 71,
   "metadata": {},
   "outputs": [],
   "source": [
    "# 0 1 1 2 3 5 8 13\n",
    "def fibonacci(n):\n",
    "    if n==1:\n",
    "        return 0\n",
    "    elif n==2:\n",
    "        return 1\n",
    "    else:\n",
    "        return fibonacci(n-1) + fibonacci(n-2)"
   ]
  },
  {
   "cell_type": "code",
   "execution_count": 77,
   "metadata": {},
   "outputs": [
    {
     "data": {
      "text/plain": [
       "8"
      ]
     },
     "execution_count": 77,
     "metadata": {},
     "output_type": "execute_result"
    }
   ],
   "source": [
    "fibonacci(7)"
   ]
  },
  {
   "cell_type": "code",
   "execution_count": null,
   "metadata": {},
   "outputs": [],
   "source": [
    "# Recursion vs Iterative\n",
    "# 1. Recursion is difficult to debug\n",
    "# 2. Iterative is easy to debug\n",
    "\n",
    "# 1. Recursion code takes less space\n",
    "# 2. Iterative code takes more space"
   ]
  },
  {
   "cell_type": "markdown",
   "metadata": {},
   "source": [
    "# Anonymous/Lambda in Python"
   ]
  },
  {
   "cell_type": "code",
   "execution_count": 78,
   "metadata": {},
   "outputs": [],
   "source": [
    "# one liner function: only for convenience \n",
    "def add(a,b):\n",
    "    return a+b\n",
    "minus  = lambda x,y: x+y"
   ]
  },
  {
   "cell_type": "code",
   "execution_count": 80,
   "metadata": {},
   "outputs": [
    {
     "data": {
      "text/plain": [
       "7"
      ]
     },
     "execution_count": 80,
     "metadata": {},
     "output_type": "execute_result"
    }
   ],
   "source": [
    "minus(2,5)"
   ]
  },
  {
   "cell_type": "code",
   "execution_count": 81,
   "metadata": {},
   "outputs": [],
   "source": [
    "# Application of lambda function"
   ]
  },
  {
   "cell_type": "code",
   "execution_count": null,
   "metadata": {},
   "outputs": [],
   "source": [
    "# Practice import random module\n"
   ]
  },
  {
   "cell_type": "markdown",
   "metadata": {},
   "source": [
    "# F-Strings & String Formatting"
   ]
  },
  {
   "cell_type": "code",
   "execution_count": 96,
   "metadata": {},
   "outputs": [
    {
     "name": "stdout",
     "output_type": "stream",
     "text": [
      "This is 3 Harry\n"
     ]
    }
   ],
   "source": [
    "me = \"Harry\"\n",
    "a1 = 3\n",
    "#a = \"this is %s %s\"%(me,a1)\n",
    "a = \"This is {1} {0}\"\n",
    "b = a.format(me,a1)\n",
    "\n",
    "print(b)"
   ]
  },
  {
   "cell_type": "code",
   "execution_count": 100,
   "metadata": {},
   "outputs": [
    {
     "name": "stdout",
     "output_type": "stream",
     "text": [
      "This is Harry 3 260\n"
     ]
    }
   ],
   "source": [
    "a = f\"This is {me} {a1} {4*65}\"\n",
    "print(a)\n",
    "\n"
   ]
  },
  {
   "cell_type": "markdown",
   "metadata": {},
   "source": [
    "# args and kwargs"
   ]
  },
  {
   "cell_type": "code",
   "execution_count": 102,
   "metadata": {},
   "outputs": [
    {
     "name": "stdout",
     "output_type": "stream",
     "text": [
      "Harry Rohan Satyam Happy\n"
     ]
    }
   ],
   "source": [
    "def function_name_print(a,b,c,d):\n",
    "    print(a,b,c,d)\n",
    "    \n",
    "function_name_print(\"Harry\",\"Rohan\",\"Satyam\", \"Happy\")"
   ]
  },
  {
   "cell_type": "code",
   "execution_count": 103,
   "metadata": {},
   "outputs": [
    {
     "ename": "TypeError",
     "evalue": "function_name_print() takes 4 positional arguments but 5 were given",
     "output_type": "error",
     "traceback": [
      "\u001b[1;31m---------------------------------------------------------------------------\u001b[0m",
      "\u001b[1;31mTypeError\u001b[0m                                 Traceback (most recent call last)",
      "\u001b[1;32m<ipython-input-103-9ea9cdd0eaea>\u001b[0m in \u001b[0;36m<module>\u001b[1;34m\u001b[0m\n\u001b[0;32m      2\u001b[0m     \u001b[0mprint\u001b[0m\u001b[1;33m(\u001b[0m\u001b[0ma\u001b[0m\u001b[1;33m,\u001b[0m\u001b[0mb\u001b[0m\u001b[1;33m,\u001b[0m\u001b[0mc\u001b[0m\u001b[1;33m,\u001b[0m\u001b[0md\u001b[0m\u001b[1;33m)\u001b[0m\u001b[1;33m\u001b[0m\u001b[1;33m\u001b[0m\u001b[0m\n\u001b[0;32m      3\u001b[0m \u001b[1;33m\u001b[0m\u001b[0m\n\u001b[1;32m----> 4\u001b[1;33m \u001b[0mfunction_name_print\u001b[0m\u001b[1;33m(\u001b[0m\u001b[1;34m\"Harry\"\u001b[0m\u001b[1;33m,\u001b[0m\u001b[1;34m\"Rohan\"\u001b[0m\u001b[1;33m,\u001b[0m\u001b[1;34m\"Satyam\"\u001b[0m\u001b[1;33m,\u001b[0m \u001b[1;34m\"Happy\"\u001b[0m\u001b[1;33m,\u001b[0m \u001b[1;34m\"Shivam\"\u001b[0m\u001b[1;33m)\u001b[0m\u001b[1;33m\u001b[0m\u001b[1;33m\u001b[0m\u001b[0m\n\u001b[0m",
      "\u001b[1;31mTypeError\u001b[0m: function_name_print() takes 4 positional arguments but 5 were given"
     ]
    }
   ],
   "source": [
    "def function_name_print(a,b,c,d):\n",
    "    print(a,b,c,d)\n",
    "    \n",
    "function_name_print(\"Harry\",\"Rohan\",\"Satyam\", \"Happy\", \"Shivam\")\n",
    "# Error with 5 arguments"
   ]
  },
  {
   "cell_type": "code",
   "execution_count": 105,
   "metadata": {},
   "outputs": [
    {
     "name": "stdout",
     "output_type": "stream",
     "text": [
      "Harry\n"
     ]
    }
   ],
   "source": [
    "def funargs(*args):\n",
    "    print(args[0]) # output is tuple\n",
    "\n",
    "har = [\"Harry\",\"Rohan\",\"Satyam\", \"Happy\", \"Shivam\"]\n",
    "\n",
    "funargs(*har)\n"
   ]
  },
  {
   "cell_type": "code",
   "execution_count": 106,
   "metadata": {},
   "outputs": [
    {
     "name": "stdout",
     "output_type": "stream",
     "text": [
      "Harry\n",
      "Rohan\n",
      "Satyam\n",
      "Happy\n",
      "Shivam\n"
     ]
    }
   ],
   "source": [
    "def funargs(*args):\n",
    "    for item in args: # output is tuple\n",
    "        print(item)\n",
    "\n",
    "har = [\"Harry\",\"Rohan\",\"Satyam\", \"Happy\", \"Shivam\"]\n",
    "\n",
    "funargs(*har)\n"
   ]
  },
  {
   "cell_type": "code",
   "execution_count": 110,
   "metadata": {},
   "outputs": [
    {
     "name": "stdout",
     "output_type": "stream",
     "text": [
      "I am a normal argument\n",
      "Harry\n",
      "Rohan\n",
      "Satyam\n",
      "Happy\n",
      "Shivam\n",
      "I am a normal argument\n"
     ]
    }
   ],
   "source": [
    "def funargs(normal,*args, **kwargs):\n",
    "    print(normal)\n",
    "    for item in args: # output is tuple\n",
    "        print(item)\n",
    "\n",
    "har = [\"Harry\",\"Rohan\",\"Satyam\", \"Happy\", \"Shivam\"]\n",
    "normal = \"I am a normal argument\"\n",
    "funargs(normal,*har)\n",
    "funargs(normal) # args and kwargs are optional during calling a function\n",
    "\n"
   ]
  },
  {
   "cell_type": "code",
   "execution_count": 108,
   "metadata": {},
   "outputs": [
    {
     "name": "stdout",
     "output_type": "stream",
     "text": [
      "Harry\n",
      "Rohan\n",
      "Satyam\n",
      "Happy\n",
      "Shivam\n",
      "I am a normal argument\n"
     ]
    }
   ],
   "source": [
    "funargs(*har, normal) # normal argument should come first"
   ]
  },
  {
   "cell_type": "code",
   "execution_count": 122,
   "metadata": {},
   "outputs": [],
   "source": [
    "def funargs(normal,*args, **kwargs):\n",
    "    print(normal)\n",
    "    for item in args: # output is tuple\n",
    "        print(item)\n",
    "    print(\"\\nNow I would like to introduce some of our heroes\")\n",
    "    for key,value in kwargs.items():\n",
    "        print(f\"{key} is a {value}\")\n",
    "\n",
    "har = [\"Harry\",\"Rohan\",\"Satyam\", \"Happy\", \"Shivam\"]\n",
    "normal = \"I am a normal argument\"\n",
    "kw = {\"Rohan\": \"Monitor\", \"Harry\": \"Fitness Instructor\", \"The Programmer\": \"Coordinator\"}\n",
    "\n"
   ]
  },
  {
   "cell_type": "code",
   "execution_count": 123,
   "metadata": {},
   "outputs": [
    {
     "name": "stdout",
     "output_type": "stream",
     "text": [
      "I am a normal argument\n",
      "Harry\n",
      "Rohan\n",
      "Satyam\n",
      "Happy\n",
      "Shivam\n",
      "\n",
      "Now I would like to introduce some of our heroes\n",
      "Rohan is a Monitor\n",
      "Harry is a Fitness Instructor\n",
      "The Programmer is a Coordinator\n"
     ]
    }
   ],
   "source": [
    "funargs(normal,*har, **kw)"
   ]
  },
  {
   "cell_type": "code",
   "execution_count": 124,
   "metadata": {},
   "outputs": [],
   "source": [
    "# Time module in python : video 43"
   ]
  },
  {
   "cell_type": "code",
   "execution_count": null,
   "metadata": {},
   "outputs": [],
   "source": [
    "# Virtual Environment : video 44"
   ]
  },
  {
   "cell_type": "markdown",
   "metadata": {},
   "source": [
    "# Enumerate"
   ]
  },
  {
   "cell_type": "code",
   "execution_count": 126,
   "metadata": {},
   "outputs": [
    {
     "name": "stdout",
     "output_type": "stream",
     "text": [
      "Jarvis Please buy Bhindi\n",
      "Jarvis Please buy  Chopsticks\n"
     ]
    }
   ],
   "source": [
    "l1 = [\"Bhindi\",\" Aloo\", \" Chopsticks\",\"Chowmein\"]\n",
    "i = 0\n",
    "for item in l1:\n",
    "    if i%2==0:\n",
    "        print(f\"Jarvis Please buy {item}\")\n",
    "    i+=1"
   ]
  },
  {
   "cell_type": "code",
   "execution_count": 128,
   "metadata": {},
   "outputs": [
    {
     "name": "stdout",
     "output_type": "stream",
     "text": [
      "Jarvis Please buy Bhindi\n",
      "Jarvis Please buy  Chopsticks\n"
     ]
    }
   ],
   "source": [
    "for index,item in enumerate(l1):\n",
    "    if index%2==0:\n",
    "        print(f\"Jarvis Please buy {item}\")\n",
    "        "
   ]
  },
  {
   "cell_type": "code",
   "execution_count": null,
   "metadata": {},
   "outputs": [],
   "source": [
    "# video 46: How import works in python"
   ]
  },
  {
   "cell_type": "markdown",
   "metadata": {},
   "source": [
    "# If __name__==__main__ usage & necessity"
   ]
  },
  {
   "cell_type": "code",
   "execution_count": 132,
   "metadata": {},
   "outputs": [
    {
     "ename": "ModuleNotFoundError",
     "evalue": "No module named 'Tutmain'",
     "output_type": "error",
     "traceback": [
      "\u001b[1;31m---------------------------------------------------------------------------\u001b[0m",
      "\u001b[1;31mModuleNotFoundError\u001b[0m                       Traceback (most recent call last)",
      "\u001b[1;32m<ipython-input-132-f834a4de230c>\u001b[0m in \u001b[0;36m<module>\u001b[1;34m\u001b[0m\n\u001b[1;32m----> 1\u001b[1;33m \u001b[1;32mimport\u001b[0m \u001b[0mTutmain\u001b[0m\u001b[1;33m\u001b[0m\u001b[1;33m\u001b[0m\u001b[0m\n\u001b[0m",
      "\u001b[1;31mModuleNotFoundError\u001b[0m: No module named 'Tutmain'"
     ]
    }
   ],
   "source": [
    "import Tutmain"
   ]
  },
  {
   "cell_type": "code",
   "execution_count": null,
   "metadata": {},
   "outputs": [],
   "source": [
    "https://www.youtube.com/watch?v=Gy74MjEpnYw&list=PLu0W_9lII9agICnT8t4iYVSZ3eykIAOME&index=47\n",
    "    "
   ]
  },
  {
   "cell_type": "markdown",
   "metadata": {},
   "source": [
    "# Join Function"
   ]
  },
  {
   "cell_type": "code",
   "execution_count": 133,
   "metadata": {},
   "outputs": [],
   "source": [
    "lis = [\"John\",\"Cena\",\"Randy\",\" Orton\",\"Shemus\",\" Khali\",\"Jinder Mahal\"]\n"
   ]
  },
  {
   "cell_type": "code",
   "execution_count": 135,
   "metadata": {},
   "outputs": [
    {
     "name": "stdout",
     "output_type": "stream",
     "text": [
      "John and,Cena and,Randy and, Orton and,Shemus and, Khali and,Jinder Mahal and,"
     ]
    }
   ],
   "source": [
    "for item in lis:\n",
    "    print(item, \"and\", end =\",\")"
   ]
  },
  {
   "cell_type": "code",
   "execution_count": 136,
   "metadata": {},
   "outputs": [
    {
     "name": "stdout",
     "output_type": "stream",
     "text": [
      "John , Cena , Randy ,  Orton , Shemus ,  Khali , Jinder Mahal other wwe superstars\n"
     ]
    }
   ],
   "source": [
    "a = \" , \".join(lis)\n",
    "print(a,\"other wwe superstars\")"
   ]
  },
  {
   "cell_type": "markdown",
   "metadata": {},
   "source": [
    "# Map, Filter & Reduce"
   ]
  },
  {
   "cell_type": "code",
   "execution_count": 137,
   "metadata": {},
   "outputs": [
    {
     "ename": "TypeError",
     "evalue": "can only concatenate str (not \"int\") to str",
     "output_type": "error",
     "traceback": [
      "\u001b[1;31m---------------------------------------------------------------------------\u001b[0m",
      "\u001b[1;31mTypeError\u001b[0m                                 Traceback (most recent call last)",
      "\u001b[1;32m<ipython-input-137-9cf927fb49e6>\u001b[0m in \u001b[0;36m<module>\u001b[1;34m\u001b[0m\n\u001b[0;32m      1\u001b[0m \u001b[0mnumbers\u001b[0m \u001b[1;33m=\u001b[0m \u001b[1;33m[\u001b[0m\u001b[1;34m\"3\"\u001b[0m\u001b[1;33m,\u001b[0m\u001b[1;34m\"34\"\u001b[0m\u001b[1;33m,\u001b[0m \u001b[1;34m\"64\"\u001b[0m\u001b[1;33m]\u001b[0m\u001b[1;33m\u001b[0m\u001b[1;33m\u001b[0m\u001b[0m\n\u001b[1;32m----> 2\u001b[1;33m \u001b[0mnumbers\u001b[0m\u001b[1;33m[\u001b[0m\u001b[1;36m2\u001b[0m\u001b[1;33m]\u001b[0m \u001b[1;33m=\u001b[0m \u001b[0mnumbers\u001b[0m\u001b[1;33m[\u001b[0m\u001b[1;36m2\u001b[0m\u001b[1;33m]\u001b[0m \u001b[1;33m+\u001b[0m\u001b[1;36m1\u001b[0m\u001b[1;33m\u001b[0m\u001b[1;33m\u001b[0m\u001b[0m\n\u001b[0m",
      "\u001b[1;31mTypeError\u001b[0m: can only concatenate str (not \"int\") to str"
     ]
    }
   ],
   "source": [
    "numbers = [\"3\",\"34\", \"64\"]\n",
    "numbers[2] = numbers[2] +1 # gives error as numbers are in string format"
   ]
  },
  {
   "cell_type": "code",
   "execution_count": 142,
   "metadata": {},
   "outputs": [],
   "source": [
    "for i in range(len(numbers)):\n",
    "    numbers[i] = int(numbers[i])"
   ]
  },
  {
   "cell_type": "code",
   "execution_count": 143,
   "metadata": {},
   "outputs": [],
   "source": [
    "numbers[2] = numbers[2] +1"
   ]
  },
  {
   "cell_type": "code",
   "execution_count": 144,
   "metadata": {},
   "outputs": [
    {
     "data": {
      "text/plain": [
       "[3, 34, 65]"
      ]
     },
     "execution_count": 144,
     "metadata": {},
     "output_type": "execute_result"
    }
   ],
   "source": [
    "numbers"
   ]
  },
  {
   "cell_type": "code",
   "execution_count": 147,
   "metadata": {},
   "outputs": [
    {
     "name": "stdout",
     "output_type": "stream",
     "text": [
      "[3, 34, 65]\n"
     ]
    }
   ],
   "source": [
    "# Using map\n",
    "numbers = list(map(int,numbers)) # map returns object so we used list function on it.\n",
    "print(numbers)"
   ]
  },
  {
   "cell_type": "code",
   "execution_count": 148,
   "metadata": {},
   "outputs": [],
   "source": [
    "num =  [1,2,3,4,5,6,7,8,9,10]\n"
   ]
  },
  {
   "cell_type": "code",
   "execution_count": 149,
   "metadata": {},
   "outputs": [],
   "source": [
    "def sq(a):\n",
    "    return a*a"
   ]
  },
  {
   "cell_type": "code",
   "execution_count": 152,
   "metadata": {},
   "outputs": [
    {
     "data": {
      "text/plain": [
       "[1, 4, 9, 16, 25, 36, 49, 64, 81, 100]"
      ]
     },
     "execution_count": 152,
     "metadata": {},
     "output_type": "execute_result"
    }
   ],
   "source": [
    "square = list(map(sq,num))\n",
    "square"
   ]
  },
  {
   "cell_type": "code",
   "execution_count": 154,
   "metadata": {},
   "outputs": [],
   "source": [
    "sqaure = list(map(lambda x: x*x, num))"
   ]
  },
  {
   "cell_type": "code",
   "execution_count": 156,
   "metadata": {},
   "outputs": [
    {
     "data": {
      "text/plain": [
       "[1, 4, 9, 16, 25, 36, 49, 64, 81, 100]"
      ]
     },
     "execution_count": 156,
     "metadata": {},
     "output_type": "execute_result"
    }
   ],
   "source": [
    "square"
   ]
  },
  {
   "cell_type": "code",
   "execution_count": 157,
   "metadata": {},
   "outputs": [],
   "source": [
    "def square(a):\n",
    "    return a*a\n",
    "\n",
    "def cube(a):\n",
    "    return a*a*a\n",
    "\n",
    "func = [square, cube]"
   ]
  },
  {
   "cell_type": "code",
   "execution_count": null,
   "metadata": {},
   "outputs": [],
   "source": [
    "https://www.youtube.com/watch?v=zimHDlOpGXo&list=PLu0W_9lII9agICnT8t4iYVSZ3eykIAOME&index=49"
   ]
  },
  {
   "cell_type": "code",
   "execution_count": null,
   "metadata": {},
   "outputs": [],
   "source": []
  },
  {
   "cell_type": "code",
   "execution_count": null,
   "metadata": {},
   "outputs": [],
   "source": []
  },
  {
   "cell_type": "code",
   "execution_count": null,
   "metadata": {},
   "outputs": [],
   "source": []
  },
  {
   "cell_type": "code",
   "execution_count": null,
   "metadata": {},
   "outputs": [],
   "source": []
  },
  {
   "cell_type": "code",
   "execution_count": null,
   "metadata": {},
   "outputs": [],
   "source": []
  },
  {
   "cell_type": "code",
   "execution_count": null,
   "metadata": {},
   "outputs": [],
   "source": []
  },
  {
   "cell_type": "code",
   "execution_count": null,
   "metadata": {},
   "outputs": [],
   "source": []
  },
  {
   "cell_type": "code",
   "execution_count": null,
   "metadata": {},
   "outputs": [],
   "source": []
  },
  {
   "cell_type": "code",
   "execution_count": null,
   "metadata": {},
   "outputs": [],
   "source": []
  }
 ],
 "metadata": {
  "kernelspec": {
   "display_name": "Python 3",
   "language": "python",
   "name": "python3"
  },
  "language_info": {
   "codemirror_mode": {
    "name": "ipython",
    "version": 3
   },
   "file_extension": ".py",
   "mimetype": "text/x-python",
   "name": "python",
   "nbconvert_exporter": "python",
   "pygments_lexer": "ipython3",
   "version": "3.8.3"
  }
 },
 "nbformat": 4,
 "nbformat_minor": 4
}
